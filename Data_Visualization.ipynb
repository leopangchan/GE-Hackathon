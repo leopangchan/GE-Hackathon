{
 "cells": [
  {
   "cell_type": "code",
   "execution_count": 118,
   "metadata": {
    "collapsed": false
   },
   "outputs": [],
   "source": [
    "import datetime\n",
    "import math\n",
    "import matplotlib.pyplot as plt\n",
    "import numpy as np\n",
    "import pandas as pd\n",
    "import requests\n",
    "import time\n",
    "\n",
    "from datetime import timedelta\n",
    "from mpl_toolkits.basemap import Basemap"
   ]
  },
  {
   "cell_type": "code",
   "execution_count": 2,
   "metadata": {
    "collapsed": true
   },
   "outputs": [],
   "source": [
    "token = \"\"\"eyJhbGciOiJSUzI1NiIsImtpZCI6ImxlZ2FjeS10b2tlbi1rZXkiLCJ0eXAiOiJKV1QifQ.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.QrzYfVOnu9h5NLxcfkMiLChzMhjbS9h-tRNJuO4D-oxjEJFKVArcqn50H2RDRlxV7_UUkT42wbMFu7eSBDrjJiZVbGxdzx6By8tN2fDJiCt2Yu9TcuW5VZGHep9XY4HmyHcZQN-ooGk1chhGw6svp9otIP5tRPZNtO52MPoF2qKUOcIZzfkjiX9tI-TlFW8b1v5g-7-djo9RAWClTtJ8ckwhnS3e76ZWLMF5u9pztpKc2H7La52h_CiNzK58v0X3JIsLW6UYm24MsoDWWp_4i6PkK-fY2hUMtIXriXIJ5Y1dx-rm8YwtJogBK5XKjmpQLJmfGt-LPD84hKvprh1A5A\"\"\""
   ]
  },
  {
   "cell_type": "code",
   "execution_count": 3,
   "metadata": {
    "collapsed": true
   },
   "outputs": [],
   "source": [
    "headers = {\"Authorization\":\"Bearer {0}\".format(token), \"Predix-Zone-Id\": \"SD-IE-TRAFFIC\"}"
   ]
  },
  {
   "cell_type": "code",
   "execution_count": 4,
   "metadata": {
    "collapsed": true
   },
   "outputs": [],
   "source": [
    "metadataurl = \"https://ic-metadata-service-sdhack.run.aws-usw02-pr.ice.predix.io/v2/metadata\""
   ]
  },
  {
   "cell_type": "code",
   "execution_count": 5,
   "metadata": {
    "collapsed": true
   },
   "outputs": [],
   "source": [
    "eventurl = \"https://ic-event-service-sdhack.run.aws-usw02-pr.ice.predix.io/v2\""
   ]
  },
  {
   "cell_type": "code",
   "execution_count": 15,
   "metadata": {
    "collapsed": true
   },
   "outputs": [],
   "source": [
    "# returns a tuple of lists with ([lat], [lon]) for each traffic cam location\n",
    "def get_evt_coords(url):\n",
    "    lats = []\n",
    "    lons = []\n",
    "    \n",
    "    # will return list of dicts with location information\n",
    "    data = requests.get(url, headers=headers).json()['content']\n",
    "    \n",
    "    # each loc is a dict\n",
    "    for loc in data:\n",
    "        # 'coordinates': '32.70889882029687:-117.16397788720174,32.708698757933085:-117.1641098623356'\n",
    "        coordinates = loc['coordinates'].split(',')\n",
    "        \n",
    "        # take average of two lat/lon locs given\n",
    "        coord1 = coordinates[0].split(':')\n",
    "        coord2 = coord1\n",
    "        \n",
    "        if (len(coordinates) > 1):\n",
    "            coord2 = coordinates[1].split(':')\n",
    "        \n",
    "        lats.append((float(coord1[0]) + float(coord2[0])) / 2)\n",
    "        lons.append((float(coord1[1]) + float(coord2[1])) / 2)\n",
    "    \n",
    "    return (lats, lons)"
   ]
  },
  {
   "cell_type": "markdown",
   "metadata": {},
   "source": [
    "### Print coordinates for traffic cameras"
   ]
  },
  {
   "cell_type": "code",
   "execution_count": 16,
   "metadata": {
    "collapsed": false
   },
   "outputs": [
    {
     "data": {
      "text/plain": [
       "20"
      ]
     },
     "execution_count": 16,
     "metadata": {},
     "output_type": "execute_result"
    }
   ],
   "source": [
    "url = \"{0}/locations/search?q=locationType:TRAFFIC_LANE\".format(metadataurl)\n",
    "lat, lon = get_evt_coords(url)\n",
    "len(lat)"
   ]
  },
  {
   "cell_type": "code",
   "execution_count": 17,
   "metadata": {
    "collapsed": false
   },
   "outputs": [
    {
     "name": "stdout",
     "output_type": "stream",
     "text": [
      "32.7087987891, -117.164043875\n",
      "32.7154739232, -117.163819\n",
      "32.7069310415, -117.160594502\n",
      "32.7060011229, -117.159143229\n",
      "32.7114096988, -117.170733829\n",
      "32.7057506627, -117.163325037\n",
      "32.7157728054, -117.164977014\n",
      "32.7076981919, -117.161882842\n",
      "32.7157902183, -117.163234114\n",
      "32.7156345695, -117.165378003\n",
      "32.7156527942, -117.16450063\n",
      "32.7198617516, -117.163270336\n",
      "32.7108594164, -117.168029321\n",
      "32.7157877768, -117.164046382\n",
      "32.7057785101, -117.157268566\n",
      "32.7157763294, -117.165851563\n",
      "32.7201170823, -117.162967209\n",
      "32.7198661975, -117.164655686\n",
      "32.7197804133, -117.162915828\n",
      "32.7179880807, -117.162040297\n"
     ]
    }
   ],
   "source": [
    "for la, lo in zip(lat, lon):\n",
    "    print(\"{0}, {1}\".format(la, lo))"
   ]
  },
  {
   "cell_type": "markdown",
   "metadata": {},
   "source": [
    "### Print coordinates for pedestrian cameras"
   ]
  },
  {
   "cell_type": "code",
   "execution_count": 201,
   "metadata": {
    "collapsed": true
   },
   "outputs": [],
   "source": [
    "url = \"{0}/locations/search?q=locationType:WALKWAY\".format(metadataurl)\n",
    "lat, lon = get_evt_coords(url)"
   ]
  },
  {
   "cell_type": "code",
   "execution_count": 202,
   "metadata": {
    "collapsed": false
   },
   "outputs": [
    {
     "name": "stdout",
     "output_type": "stream",
     "text": [
      "32.7197942019, -117.162931459\n",
      "32.7178879931, -117.1620302\n",
      "32.715662876, -117.164607079\n",
      "32.7157061396, -117.163716912\n",
      "32.7198663832, -117.163034598\n",
      "32.7155977919, -117.163843291\n",
      "32.7198796648, -117.164883547\n",
      "32.7199702492, -117.162962632\n",
      "32.7158062346, -117.165738015\n",
      "32.7288130472, -117.184288144\n",
      "32.7157728783, -117.166619513\n",
      "32.7198755382, -117.161937379\n",
      "32.7228702092, -117.169303976\n",
      "32.7155989693, -117.161102843\n",
      "32.719918527, -117.16207676\n",
      "32.715620372, -117.165532189\n",
      "32.7198675257, -117.16375838\n",
      "32.7177828596, -117.163956723\n",
      "32.7178883971, -117.161102416\n",
      "32.7197888013, -117.162011729\n"
     ]
    }
   ],
   "source": [
    "for la, lo in zip(lat, lon):\n",
    "    print(\"{0}, {1}\".format(la, lo))"
   ]
  },
  {
   "cell_type": "markdown",
   "metadata": {},
   "source": [
    "### Print environmental sensor coordinates"
   ]
  },
  {
   "cell_type": "code",
   "execution_count": 214,
   "metadata": {
    "collapsed": false
   },
   "outputs": [
    {
     "data": {
      "text/plain": [
       "20"
      ]
     },
     "execution_count": 214,
     "metadata": {},
     "output_type": "execute_result"
    }
   ],
   "source": [
    "url = \"{0}/assets/search?q=assetType:ENV_SENSOR\".format(metadataurl)\n",
    "lat, lon = get_evt_coords(url)\n",
    "len(lat)"
   ]
  },
  {
   "cell_type": "code",
   "execution_count": 213,
   "metadata": {
    "collapsed": false
   },
   "outputs": [
    {
     "name": "stdout",
     "output_type": "stream",
     "text": [
      "32.708744, -117.164276\n",
      "32.706898, -117.16074\n",
      "32.71135, -117.17089\n",
      "32.70773, -117.162094\n",
      "32.705894, -117.163315\n",
      "32.719986, -117.16469\n",
      "32.719982, -117.16303\n",
      "32.715588, -117.16458\n",
      "32.715824, -117.163025\n",
      "32.705765, -117.15713\n",
      "32.715603, -117.16119\n",
      "32.715824, -117.16574\n",
      "32.715847, -117.16481\n",
      "32.71789, -117.160995\n",
      "32.71555, -117.165504\n",
      "32.710796, -117.16817\n",
      "32.715836, -117.163956\n",
      "32.720997, -117.1684\n",
      "32.719986, -117.162834\n",
      "32.71994, -117.1649\n"
     ]
    }
   ],
   "source": [
    "for la, lo in zip(lat, lon):\n",
    "    print(\"{0}, {1}\".format(la, lo))"
   ]
  },
  {
   "cell_type": "markdown",
   "metadata": {},
   "source": [
    "### Number of camera assets"
   ]
  },
  {
   "cell_type": "code",
   "execution_count": 215,
   "metadata": {
    "collapsed": false
   },
   "outputs": [
    {
     "data": {
      "text/plain": [
       "20"
      ]
     },
     "execution_count": 215,
     "metadata": {},
     "output_type": "execute_result"
    }
   ],
   "source": [
    "url = \"{0}/assets/search?q=assetType:ENV_SENSOR\".format(metadataurl)\n",
    "data = requests.get(url, headers=headers).json()['content']\n",
    "len(data)"
   ]
  },
  {
   "cell_type": "markdown",
   "metadata": {},
   "source": [
    "### Aggregate environmental data"
   ]
  },
  {
   "cell_type": "code",
   "execution_count": 144,
   "metadata": {
    "collapsed": true
   },
   "outputs": [],
   "source": [
    "def kelvin_to_fahren(temp_kelvin):\n",
    "    return temp_kelvin * 9/5 - 459.67"
   ]
  },
  {
   "cell_type": "markdown",
   "metadata": {},
   "source": [
    "### Get a list of all assets"
   ]
  },
  {
   "cell_type": "code",
   "execution_count": 78,
   "metadata": {
    "collapsed": false
   },
   "outputs": [
    {
     "data": {
      "text/plain": [
       "0    4a17850e-ba5c-4ca1-aae0-c02d85fb6a8f\n",
       "1    178ae263-6989-4a2a-8061-0bee0831e9ae\n",
       "2    9027c874-3633-4907-adc6-de100f69f94e\n",
       "3    e4097c0d-a3a4-4e03-bf41-d1298c59a3c3\n",
       "4    1e16720f-50b9-4e5f-85b9-9d1cc2c940a6\n",
       "Name: assetUid, dtype: object"
      ]
     },
     "execution_count": 78,
     "metadata": {},
     "output_type": "execute_result"
    }
   ],
   "source": [
    "url = \"{0}/assets/search?bbox=&page=0&size=1000&q=assetType:ENV_SENSOR\".format(metadataurl)\n",
    "assets = pd.DataFrame(requests.get(url, headers=headers).json()['content'])['assetUid']\n",
    "assets.head()"
   ]
  },
  {
   "cell_type": "code",
   "execution_count": 79,
   "metadata": {
    "collapsed": false
   },
   "outputs": [
    {
     "name": "stdout",
     "output_type": "stream",
     "text": [
      "Number of assets 45\n"
     ]
    }
   ],
   "source": [
    "print \"Number of assets {0}\".format(len(assets))"
   ]
  },
  {
   "cell_type": "markdown",
   "metadata": {},
   "source": [
    "### Calculate start and end times for aggregations"
   ]
  },
  {
   "cell_type": "code",
   "execution_count": 85,
   "metadata": {
    "collapsed": false
   },
   "outputs": [],
   "source": [
    "startTime = '2018-02-13 00:00:00'\n",
    "endTime = '2018-02-14 12:59:59'"
   ]
  },
  {
   "cell_type": "code",
   "execution_count": 92,
   "metadata": {
    "collapsed": false
   },
   "outputs": [],
   "source": [
    "pattern = '%Y-%m-%d %H:%M:%S'\n",
    "start = int(time.mktime(time.strptime(str(startTime),pattern))) * 1000\n",
    "end = int(time.mktime(time.strptime(str(endTime),pattern))) * 1000"
   ]
  },
  {
   "cell_type": "markdown",
   "metadata": {},
   "source": [
    "### Params for API call"
   ]
  },
  {
   "cell_type": "code",
   "execution_count": 96,
   "metadata": {
    "collapsed": true
   },
   "outputs": [],
   "source": [
    "env_header = {\"Authorization\":\"Bearer {0}\".format(token), \"Predix-Zone-Id\": \"SD-IE-ENVIRONMENTAL\"}"
   ]
  },
  {
   "cell_type": "markdown",
   "metadata": {},
   "source": [
    "### Allowed event types\n",
    "### ORIENTATION\n",
    "### TEMPERATURE (Kelvin)\n",
    "### PRESSURE (Pascals)\n",
    "### HUMIDITY (Percent)"
   ]
  },
  {
   "cell_type": "code",
   "execution_count": 194,
   "metadata": {
    "collapsed": true
   },
   "outputs": [],
   "source": [
    "event_type = 'PRESSURE'"
   ]
  },
  {
   "cell_type": "code",
   "execution_count": 195,
   "metadata": {
    "collapsed": true
   },
   "outputs": [],
   "source": [
    "res = {'asset':[],'average':[],'unit':[], 'event_type':[], 'start_time':[], 'end_time':[]}"
   ]
  },
  {
   "cell_type": "code",
   "execution_count": null,
   "metadata": {
    "collapsed": false,
    "scrolled": true
   },
   "outputs": [],
   "source": [
    "for asset in assets:\n",
    "    url = \"{0}/assets/{1}/events?eventType={2}&startTime={3}&endTime={4}\" \\\n",
    "     .format(eventurl, asset, event_type, start, end)\n",
    "   \n",
    "    data = requests.get(url, headers=env_header).json()['content']\n",
    "    \n",
    "    if len(data) > 0:\n",
    "        properties = data[0]['properties']\n",
    "        \n",
    "        avgs = [x['measures']['mean'] for x in data]\n",
    "        total = np.mean(avgs) * math.pow(10.0, float(properties['powerOf10']))\n",
    "        unit = properties['unit']\n",
    "        \n",
    "        if properties['unit'] == 'KELVIN':\n",
    "            total = kelvin_to_fahren(total)\n",
    "            unit = 'Fahrenheit'\n",
    "        \n",
    "        #print \"average {0} for asset {1} is {2} {3}\"\\\n",
    "        # .format(event_type, asset, total, unit)  \n",
    "        \n",
    "        res['asset'].append(asset)\n",
    "        res['average'].append(total)\n",
    "        res['unit'].append(unit)\n",
    "        res['event_type'].append(event_type)\n",
    "        res['start_time'].append(time.strftime('%m/%d/%Y %H:%M:%S',  time.gmtime(start/1000.)))\n",
    "        res['end_time'].append(time.strftime('%m/%d/%Y %H:%M:%S',  time.gmtime(end/1000.)))"
   ]
  },
  {
   "cell_type": "code",
   "execution_count": 191,
   "metadata": {
    "collapsed": false
   },
   "outputs": [],
   "source": [
    "df = pd.DataFrame(res, columns=['asset','average','unit','event_type', 'start_time', 'end_time'])"
   ]
  },
  {
   "cell_type": "code",
   "execution_count": 192,
   "metadata": {
    "collapsed": false
   },
   "outputs": [
    {
     "data": {
      "text/html": [
       "<div>\n",
       "<table border=\"1\" class=\"dataframe\">\n",
       "  <thead>\n",
       "    <tr style=\"text-align: right;\">\n",
       "      <th></th>\n",
       "      <th>asset</th>\n",
       "      <th>average</th>\n",
       "      <th>unit</th>\n",
       "      <th>event_type</th>\n",
       "      <th>start_time</th>\n",
       "      <th>end_time</th>\n",
       "    </tr>\n",
       "  </thead>\n",
       "  <tbody>\n",
       "    <tr>\n",
       "      <th>0</th>\n",
       "      <td>4a17850e-ba5c-4ca1-aae0-c02d85fb6a8f</td>\n",
       "      <td>62.657162</td>\n",
       "      <td>Fahrenheit</td>\n",
       "      <td>TEMPERATURE</td>\n",
       "      <td>02/13/2018 08:00:00</td>\n",
       "      <td>02/14/2018 20:59:59</td>\n",
       "    </tr>\n",
       "    <tr>\n",
       "      <th>1</th>\n",
       "      <td>178ae263-6989-4a2a-8061-0bee0831e9ae</td>\n",
       "      <td>62.143919</td>\n",
       "      <td>Fahrenheit</td>\n",
       "      <td>TEMPERATURE</td>\n",
       "      <td>02/13/2018 08:00:00</td>\n",
       "      <td>02/14/2018 20:59:59</td>\n",
       "    </tr>\n",
       "    <tr>\n",
       "      <th>2</th>\n",
       "      <td>9027c874-3633-4907-adc6-de100f69f94e</td>\n",
       "      <td>63.280548</td>\n",
       "      <td>Fahrenheit</td>\n",
       "      <td>TEMPERATURE</td>\n",
       "      <td>02/13/2018 08:00:00</td>\n",
       "      <td>02/14/2018 20:59:59</td>\n",
       "    </tr>\n",
       "    <tr>\n",
       "      <th>3</th>\n",
       "      <td>e4097c0d-a3a4-4e03-bf41-d1298c59a3c3</td>\n",
       "      <td>63.080612</td>\n",
       "      <td>Fahrenheit</td>\n",
       "      <td>TEMPERATURE</td>\n",
       "      <td>02/13/2018 08:00:00</td>\n",
       "      <td>02/14/2018 20:59:59</td>\n",
       "    </tr>\n",
       "    <tr>\n",
       "      <th>4</th>\n",
       "      <td>1e16720f-50b9-4e5f-85b9-9d1cc2c940a6</td>\n",
       "      <td>62.331233</td>\n",
       "      <td>Fahrenheit</td>\n",
       "      <td>TEMPERATURE</td>\n",
       "      <td>02/13/2018 08:00:00</td>\n",
       "      <td>02/14/2018 20:59:59</td>\n",
       "    </tr>\n",
       "    <tr>\n",
       "      <th>5</th>\n",
       "      <td>022c5cb8-ab69-4a9e-a2e2-5f2f78e3e2b9</td>\n",
       "      <td>63.058571</td>\n",
       "      <td>Fahrenheit</td>\n",
       "      <td>TEMPERATURE</td>\n",
       "      <td>02/13/2018 08:00:00</td>\n",
       "      <td>02/14/2018 20:59:59</td>\n",
       "    </tr>\n",
       "    <tr>\n",
       "      <th>6</th>\n",
       "      <td>72e2719f-2fa5-47c2-babd-d9d5cad25887</td>\n",
       "      <td>62.687551</td>\n",
       "      <td>Fahrenheit</td>\n",
       "      <td>TEMPERATURE</td>\n",
       "      <td>02/13/2018 08:00:00</td>\n",
       "      <td>02/14/2018 20:59:59</td>\n",
       "    </tr>\n",
       "    <tr>\n",
       "      <th>7</th>\n",
       "      <td>0f1abc53-32b8-494a-865a-4d9219847edd</td>\n",
       "      <td>62.565479</td>\n",
       "      <td>Fahrenheit</td>\n",
       "      <td>TEMPERATURE</td>\n",
       "      <td>02/13/2018 08:00:00</td>\n",
       "      <td>02/14/2018 20:59:59</td>\n",
       "    </tr>\n",
       "    <tr>\n",
       "      <th>8</th>\n",
       "      <td>31e80cbf-f6d1-442d-a170-9a8d3801234d</td>\n",
       "      <td>61.678571</td>\n",
       "      <td>Fahrenheit</td>\n",
       "      <td>TEMPERATURE</td>\n",
       "      <td>02/13/2018 08:00:00</td>\n",
       "      <td>02/14/2018 20:59:59</td>\n",
       "    </tr>\n",
       "    <tr>\n",
       "      <th>9</th>\n",
       "      <td>6ed403e4-e8e0-4b6f-828c-651875ca6491</td>\n",
       "      <td>64.575135</td>\n",
       "      <td>Fahrenheit</td>\n",
       "      <td>TEMPERATURE</td>\n",
       "      <td>02/13/2018 08:00:00</td>\n",
       "      <td>02/14/2018 20:59:59</td>\n",
       "    </tr>\n",
       "    <tr>\n",
       "      <th>10</th>\n",
       "      <td>8b5eea6f-bbd2-4595-b3d5-383f5b602030</td>\n",
       "      <td>62.424286</td>\n",
       "      <td>Fahrenheit</td>\n",
       "      <td>TEMPERATURE</td>\n",
       "      <td>02/13/2018 08:00:00</td>\n",
       "      <td>02/14/2018 20:59:59</td>\n",
       "    </tr>\n",
       "    <tr>\n",
       "      <th>11</th>\n",
       "      <td>f4158025-a213-420f-a842-e660e76f8998</td>\n",
       "      <td>62.052500</td>\n",
       "      <td>Fahrenheit</td>\n",
       "      <td>TEMPERATURE</td>\n",
       "      <td>02/13/2018 08:00:00</td>\n",
       "      <td>02/14/2018 20:59:59</td>\n",
       "    </tr>\n",
       "    <tr>\n",
       "      <th>12</th>\n",
       "      <td>47260516-d554-4695-a719-b13bcbd077b0</td>\n",
       "      <td>62.240000</td>\n",
       "      <td>Fahrenheit</td>\n",
       "      <td>TEMPERATURE</td>\n",
       "      <td>02/13/2018 08:00:00</td>\n",
       "      <td>02/14/2018 20:59:59</td>\n",
       "    </tr>\n",
       "    <tr>\n",
       "      <th>13</th>\n",
       "      <td>c8bf5b13-5ba5-41be-9104-b4c0424b7e63</td>\n",
       "      <td>61.497808</td>\n",
       "      <td>Fahrenheit</td>\n",
       "      <td>TEMPERATURE</td>\n",
       "      <td>02/13/2018 08:00:00</td>\n",
       "      <td>02/14/2018 20:59:59</td>\n",
       "    </tr>\n",
       "    <tr>\n",
       "      <th>14</th>\n",
       "      <td>a8aa9c23-574a-4e7c-8ff2-c095d891eda4</td>\n",
       "      <td>62.892500</td>\n",
       "      <td>Fahrenheit</td>\n",
       "      <td>TEMPERATURE</td>\n",
       "      <td>02/13/2018 08:00:00</td>\n",
       "      <td>02/14/2018 20:59:59</td>\n",
       "    </tr>\n",
       "    <tr>\n",
       "      <th>15</th>\n",
       "      <td>4fbc6c2e-f79a-4d6a-bbf1-7cf340ac064b</td>\n",
       "      <td>61.578378</td>\n",
       "      <td>Fahrenheit</td>\n",
       "      <td>TEMPERATURE</td>\n",
       "      <td>02/13/2018 08:00:00</td>\n",
       "      <td>02/14/2018 20:59:59</td>\n",
       "    </tr>\n",
       "    <tr>\n",
       "      <th>16</th>\n",
       "      <td>b2c54ad5-32f3-4117-8237-29cb92bfdbe8</td>\n",
       "      <td>61.953750</td>\n",
       "      <td>Fahrenheit</td>\n",
       "      <td>TEMPERATURE</td>\n",
       "      <td>02/13/2018 08:00:00</td>\n",
       "      <td>02/14/2018 20:59:59</td>\n",
       "    </tr>\n",
       "    <tr>\n",
       "      <th>17</th>\n",
       "      <td>14b97af4-7b17-4a0e-ae7b-9f9ee883578b</td>\n",
       "      <td>61.593973</td>\n",
       "      <td>Fahrenheit</td>\n",
       "      <td>TEMPERATURE</td>\n",
       "      <td>02/13/2018 08:00:00</td>\n",
       "      <td>02/14/2018 20:59:59</td>\n",
       "    </tr>\n",
       "    <tr>\n",
       "      <th>18</th>\n",
       "      <td>c1a1e577-b249-4574-90a3-d6d438c73a9a</td>\n",
       "      <td>63.623288</td>\n",
       "      <td>Fahrenheit</td>\n",
       "      <td>TEMPERATURE</td>\n",
       "      <td>02/13/2018 08:00:00</td>\n",
       "      <td>02/14/2018 20:59:59</td>\n",
       "    </tr>\n",
       "    <tr>\n",
       "      <th>19</th>\n",
       "      <td>aa114932-e3cd-49a8-922d-3d62e9b66980</td>\n",
       "      <td>61.876939</td>\n",
       "      <td>Fahrenheit</td>\n",
       "      <td>TEMPERATURE</td>\n",
       "      <td>02/13/2018 08:00:00</td>\n",
       "      <td>02/14/2018 20:59:59</td>\n",
       "    </tr>\n",
       "    <tr>\n",
       "      <th>20</th>\n",
       "      <td>1492bbff-2fd4-4d9a-b976-924701d9fdcd</td>\n",
       "      <td>61.807260</td>\n",
       "      <td>Fahrenheit</td>\n",
       "      <td>TEMPERATURE</td>\n",
       "      <td>02/13/2018 08:00:00</td>\n",
       "      <td>02/14/2018 20:59:59</td>\n",
       "    </tr>\n",
       "    <tr>\n",
       "      <th>21</th>\n",
       "      <td>3a11f8f1-f74e-4dcb-bd50-d7b7b830453f</td>\n",
       "      <td>60.888776</td>\n",
       "      <td>Fahrenheit</td>\n",
       "      <td>TEMPERATURE</td>\n",
       "      <td>02/13/2018 08:00:00</td>\n",
       "      <td>02/14/2018 20:59:59</td>\n",
       "    </tr>\n",
       "    <tr>\n",
       "      <th>22</th>\n",
       "      <td>a5585601-e863-42e0-9573-dafa586e3785</td>\n",
       "      <td>62.927551</td>\n",
       "      <td>Fahrenheit</td>\n",
       "      <td>TEMPERATURE</td>\n",
       "      <td>02/13/2018 08:00:00</td>\n",
       "      <td>02/14/2018 20:59:59</td>\n",
       "    </tr>\n",
       "    <tr>\n",
       "      <th>23</th>\n",
       "      <td>aeba47d6-f555-48e2-af4c-92c724e0e47e</td>\n",
       "      <td>64.438571</td>\n",
       "      <td>Fahrenheit</td>\n",
       "      <td>TEMPERATURE</td>\n",
       "      <td>02/13/2018 08:00:00</td>\n",
       "      <td>02/14/2018 20:59:59</td>\n",
       "    </tr>\n",
       "    <tr>\n",
       "      <th>24</th>\n",
       "      <td>dcddfc4f-ea53-471d-b2fa-df308a96c1f6</td>\n",
       "      <td>63.243469</td>\n",
       "      <td>Fahrenheit</td>\n",
       "      <td>TEMPERATURE</td>\n",
       "      <td>02/13/2018 08:00:00</td>\n",
       "      <td>02/14/2018 20:59:59</td>\n",
       "    </tr>\n",
       "    <tr>\n",
       "      <th>25</th>\n",
       "      <td>a62ffd0d-5f2a-497e-a6a0-d532940a633a</td>\n",
       "      <td>63.606027</td>\n",
       "      <td>Fahrenheit</td>\n",
       "      <td>TEMPERATURE</td>\n",
       "      <td>02/13/2018 08:00:00</td>\n",
       "      <td>02/14/2018 20:59:59</td>\n",
       "    </tr>\n",
       "    <tr>\n",
       "      <th>26</th>\n",
       "      <td>bfc7d614-d997-4565-ad00-07ecaca1bc60</td>\n",
       "      <td>63.511633</td>\n",
       "      <td>Fahrenheit</td>\n",
       "      <td>TEMPERATURE</td>\n",
       "      <td>02/13/2018 08:00:00</td>\n",
       "      <td>02/14/2018 20:59:59</td>\n",
       "    </tr>\n",
       "    <tr>\n",
       "      <th>27</th>\n",
       "      <td>fcd865c3-3ad7-46b3-9f0b-627e20562716</td>\n",
       "      <td>61.032041</td>\n",
       "      <td>Fahrenheit</td>\n",
       "      <td>TEMPERATURE</td>\n",
       "      <td>02/13/2018 08:00:00</td>\n",
       "      <td>02/14/2018 20:59:59</td>\n",
       "    </tr>\n",
       "    <tr>\n",
       "      <th>28</th>\n",
       "      <td>44234412-20b6-4c47-83fc-fff68728c742</td>\n",
       "      <td>62.288367</td>\n",
       "      <td>Fahrenheit</td>\n",
       "      <td>TEMPERATURE</td>\n",
       "      <td>02/13/2018 08:00:00</td>\n",
       "      <td>02/14/2018 20:59:59</td>\n",
       "    </tr>\n",
       "    <tr>\n",
       "      <th>29</th>\n",
       "      <td>a9f64b7c-aa50-4724-b8fe-9cc48877387e</td>\n",
       "      <td>60.102653</td>\n",
       "      <td>Fahrenheit</td>\n",
       "      <td>TEMPERATURE</td>\n",
       "      <td>02/13/2018 08:00:00</td>\n",
       "      <td>02/14/2018 20:59:59</td>\n",
       "    </tr>\n",
       "    <tr>\n",
       "      <th>30</th>\n",
       "      <td>effa660b-f73c-4db2-ac8c-b39686e0bd9a</td>\n",
       "      <td>62.674082</td>\n",
       "      <td>Fahrenheit</td>\n",
       "      <td>TEMPERATURE</td>\n",
       "      <td>02/13/2018 08:00:00</td>\n",
       "      <td>02/14/2018 20:59:59</td>\n",
       "    </tr>\n",
       "    <tr>\n",
       "      <th>31</th>\n",
       "      <td>965ba826-6642-4573-8f42-b37f70b92f27</td>\n",
       "      <td>62.522245</td>\n",
       "      <td>Fahrenheit</td>\n",
       "      <td>TEMPERATURE</td>\n",
       "      <td>02/13/2018 08:00:00</td>\n",
       "      <td>02/14/2018 20:59:59</td>\n",
       "    </tr>\n",
       "    <tr>\n",
       "      <th>32</th>\n",
       "      <td>5526a07a-37b0-44d3-82ed-23fc326e6dba</td>\n",
       "      <td>64.616122</td>\n",
       "      <td>Fahrenheit</td>\n",
       "      <td>TEMPERATURE</td>\n",
       "      <td>02/13/2018 08:00:00</td>\n",
       "      <td>02/14/2018 20:59:59</td>\n",
       "    </tr>\n",
       "    <tr>\n",
       "      <th>33</th>\n",
       "      <td>ab3e1f4f-838b-4209-b043-37c8c59a9140</td>\n",
       "      <td>60.727143</td>\n",
       "      <td>Fahrenheit</td>\n",
       "      <td>TEMPERATURE</td>\n",
       "      <td>02/13/2018 08:00:00</td>\n",
       "      <td>02/14/2018 20:59:59</td>\n",
       "    </tr>\n",
       "    <tr>\n",
       "      <th>34</th>\n",
       "      <td>e661447a-3779-48ed-8d6d-88c9ffef2b2e</td>\n",
       "      <td>64.863469</td>\n",
       "      <td>Fahrenheit</td>\n",
       "      <td>TEMPERATURE</td>\n",
       "      <td>02/13/2018 08:00:00</td>\n",
       "      <td>02/14/2018 20:59:59</td>\n",
       "    </tr>\n",
       "    <tr>\n",
       "      <th>35</th>\n",
       "      <td>d9a09339-8713-45ec-a961-36de760a1592</td>\n",
       "      <td>63.473673</td>\n",
       "      <td>Fahrenheit</td>\n",
       "      <td>TEMPERATURE</td>\n",
       "      <td>02/13/2018 08:00:00</td>\n",
       "      <td>02/14/2018 20:59:59</td>\n",
       "    </tr>\n",
       "    <tr>\n",
       "      <th>36</th>\n",
       "      <td>e33ae9be-bff5-41cf-a593-157ba9b16658</td>\n",
       "      <td>60.937755</td>\n",
       "      <td>Fahrenheit</td>\n",
       "      <td>TEMPERATURE</td>\n",
       "      <td>02/13/2018 08:00:00</td>\n",
       "      <td>02/14/2018 20:59:59</td>\n",
       "    </tr>\n",
       "    <tr>\n",
       "      <th>37</th>\n",
       "      <td>9cd1c788-f236-45b3-a701-fe4a650f804a</td>\n",
       "      <td>62.295714</td>\n",
       "      <td>Fahrenheit</td>\n",
       "      <td>TEMPERATURE</td>\n",
       "      <td>02/13/2018 08:00:00</td>\n",
       "      <td>02/14/2018 20:59:59</td>\n",
       "    </tr>\n",
       "    <tr>\n",
       "      <th>38</th>\n",
       "      <td>4ed81e86-dd53-48e7-bc73-e3ecc5540668</td>\n",
       "      <td>61.390548</td>\n",
       "      <td>Fahrenheit</td>\n",
       "      <td>TEMPERATURE</td>\n",
       "      <td>02/13/2018 08:00:00</td>\n",
       "      <td>02/14/2018 20:59:59</td>\n",
       "    </tr>\n",
       "    <tr>\n",
       "      <th>39</th>\n",
       "      <td>5cf3cc8f-e37d-4682-9312-33f2f4d42857</td>\n",
       "      <td>64.122552</td>\n",
       "      <td>Fahrenheit</td>\n",
       "      <td>TEMPERATURE</td>\n",
       "      <td>02/13/2018 08:00:00</td>\n",
       "      <td>02/14/2018 20:59:59</td>\n",
       "    </tr>\n",
       "    <tr>\n",
       "      <th>40</th>\n",
       "      <td>39809303-dd56-4924-9a3f-e22c2d502221</td>\n",
       "      <td>61.608776</td>\n",
       "      <td>Fahrenheit</td>\n",
       "      <td>TEMPERATURE</td>\n",
       "      <td>02/13/2018 08:00:00</td>\n",
       "      <td>02/14/2018 20:59:59</td>\n",
       "    </tr>\n",
       "    <tr>\n",
       "      <th>41</th>\n",
       "      <td>7e4bea01-926f-4a66-b434-98dab3ca48bd</td>\n",
       "      <td>61.824054</td>\n",
       "      <td>Fahrenheit</td>\n",
       "      <td>TEMPERATURE</td>\n",
       "      <td>02/13/2018 08:00:00</td>\n",
       "      <td>02/14/2018 20:59:59</td>\n",
       "    </tr>\n",
       "    <tr>\n",
       "      <th>42</th>\n",
       "      <td>a9c76d7d-cf4c-45d1-bdfe-bfedba1cb14f</td>\n",
       "      <td>62.385102</td>\n",
       "      <td>Fahrenheit</td>\n",
       "      <td>TEMPERATURE</td>\n",
       "      <td>02/13/2018 08:00:00</td>\n",
       "      <td>02/14/2018 20:59:59</td>\n",
       "    </tr>\n",
       "    <tr>\n",
       "      <th>43</th>\n",
       "      <td>7795e773-413d-473e-8b14-52c91f0a56f0</td>\n",
       "      <td>60.953243</td>\n",
       "      <td>Fahrenheit</td>\n",
       "      <td>TEMPERATURE</td>\n",
       "      <td>02/13/2018 08:00:00</td>\n",
       "      <td>02/14/2018 20:59:59</td>\n",
       "    </tr>\n",
       "  </tbody>\n",
       "</table>\n",
       "</div>"
      ],
      "text/plain": [
       "                                   asset    average        unit   event_type  \\\n",
       "0   4a17850e-ba5c-4ca1-aae0-c02d85fb6a8f  62.657162  Fahrenheit  TEMPERATURE   \n",
       "1   178ae263-6989-4a2a-8061-0bee0831e9ae  62.143919  Fahrenheit  TEMPERATURE   \n",
       "2   9027c874-3633-4907-adc6-de100f69f94e  63.280548  Fahrenheit  TEMPERATURE   \n",
       "3   e4097c0d-a3a4-4e03-bf41-d1298c59a3c3  63.080612  Fahrenheit  TEMPERATURE   \n",
       "4   1e16720f-50b9-4e5f-85b9-9d1cc2c940a6  62.331233  Fahrenheit  TEMPERATURE   \n",
       "5   022c5cb8-ab69-4a9e-a2e2-5f2f78e3e2b9  63.058571  Fahrenheit  TEMPERATURE   \n",
       "6   72e2719f-2fa5-47c2-babd-d9d5cad25887  62.687551  Fahrenheit  TEMPERATURE   \n",
       "7   0f1abc53-32b8-494a-865a-4d9219847edd  62.565479  Fahrenheit  TEMPERATURE   \n",
       "8   31e80cbf-f6d1-442d-a170-9a8d3801234d  61.678571  Fahrenheit  TEMPERATURE   \n",
       "9   6ed403e4-e8e0-4b6f-828c-651875ca6491  64.575135  Fahrenheit  TEMPERATURE   \n",
       "10  8b5eea6f-bbd2-4595-b3d5-383f5b602030  62.424286  Fahrenheit  TEMPERATURE   \n",
       "11  f4158025-a213-420f-a842-e660e76f8998  62.052500  Fahrenheit  TEMPERATURE   \n",
       "12  47260516-d554-4695-a719-b13bcbd077b0  62.240000  Fahrenheit  TEMPERATURE   \n",
       "13  c8bf5b13-5ba5-41be-9104-b4c0424b7e63  61.497808  Fahrenheit  TEMPERATURE   \n",
       "14  a8aa9c23-574a-4e7c-8ff2-c095d891eda4  62.892500  Fahrenheit  TEMPERATURE   \n",
       "15  4fbc6c2e-f79a-4d6a-bbf1-7cf340ac064b  61.578378  Fahrenheit  TEMPERATURE   \n",
       "16  b2c54ad5-32f3-4117-8237-29cb92bfdbe8  61.953750  Fahrenheit  TEMPERATURE   \n",
       "17  14b97af4-7b17-4a0e-ae7b-9f9ee883578b  61.593973  Fahrenheit  TEMPERATURE   \n",
       "18  c1a1e577-b249-4574-90a3-d6d438c73a9a  63.623288  Fahrenheit  TEMPERATURE   \n",
       "19  aa114932-e3cd-49a8-922d-3d62e9b66980  61.876939  Fahrenheit  TEMPERATURE   \n",
       "20  1492bbff-2fd4-4d9a-b976-924701d9fdcd  61.807260  Fahrenheit  TEMPERATURE   \n",
       "21  3a11f8f1-f74e-4dcb-bd50-d7b7b830453f  60.888776  Fahrenheit  TEMPERATURE   \n",
       "22  a5585601-e863-42e0-9573-dafa586e3785  62.927551  Fahrenheit  TEMPERATURE   \n",
       "23  aeba47d6-f555-48e2-af4c-92c724e0e47e  64.438571  Fahrenheit  TEMPERATURE   \n",
       "24  dcddfc4f-ea53-471d-b2fa-df308a96c1f6  63.243469  Fahrenheit  TEMPERATURE   \n",
       "25  a62ffd0d-5f2a-497e-a6a0-d532940a633a  63.606027  Fahrenheit  TEMPERATURE   \n",
       "26  bfc7d614-d997-4565-ad00-07ecaca1bc60  63.511633  Fahrenheit  TEMPERATURE   \n",
       "27  fcd865c3-3ad7-46b3-9f0b-627e20562716  61.032041  Fahrenheit  TEMPERATURE   \n",
       "28  44234412-20b6-4c47-83fc-fff68728c742  62.288367  Fahrenheit  TEMPERATURE   \n",
       "29  a9f64b7c-aa50-4724-b8fe-9cc48877387e  60.102653  Fahrenheit  TEMPERATURE   \n",
       "30  effa660b-f73c-4db2-ac8c-b39686e0bd9a  62.674082  Fahrenheit  TEMPERATURE   \n",
       "31  965ba826-6642-4573-8f42-b37f70b92f27  62.522245  Fahrenheit  TEMPERATURE   \n",
       "32  5526a07a-37b0-44d3-82ed-23fc326e6dba  64.616122  Fahrenheit  TEMPERATURE   \n",
       "33  ab3e1f4f-838b-4209-b043-37c8c59a9140  60.727143  Fahrenheit  TEMPERATURE   \n",
       "34  e661447a-3779-48ed-8d6d-88c9ffef2b2e  64.863469  Fahrenheit  TEMPERATURE   \n",
       "35  d9a09339-8713-45ec-a961-36de760a1592  63.473673  Fahrenheit  TEMPERATURE   \n",
       "36  e33ae9be-bff5-41cf-a593-157ba9b16658  60.937755  Fahrenheit  TEMPERATURE   \n",
       "37  9cd1c788-f236-45b3-a701-fe4a650f804a  62.295714  Fahrenheit  TEMPERATURE   \n",
       "38  4ed81e86-dd53-48e7-bc73-e3ecc5540668  61.390548  Fahrenheit  TEMPERATURE   \n",
       "39  5cf3cc8f-e37d-4682-9312-33f2f4d42857  64.122552  Fahrenheit  TEMPERATURE   \n",
       "40  39809303-dd56-4924-9a3f-e22c2d502221  61.608776  Fahrenheit  TEMPERATURE   \n",
       "41  7e4bea01-926f-4a66-b434-98dab3ca48bd  61.824054  Fahrenheit  TEMPERATURE   \n",
       "42  a9c76d7d-cf4c-45d1-bdfe-bfedba1cb14f  62.385102  Fahrenheit  TEMPERATURE   \n",
       "43  7795e773-413d-473e-8b14-52c91f0a56f0  60.953243  Fahrenheit  TEMPERATURE   \n",
       "\n",
       "             start_time             end_time  \n",
       "0   02/13/2018 08:00:00  02/14/2018 20:59:59  \n",
       "1   02/13/2018 08:00:00  02/14/2018 20:59:59  \n",
       "2   02/13/2018 08:00:00  02/14/2018 20:59:59  \n",
       "3   02/13/2018 08:00:00  02/14/2018 20:59:59  \n",
       "4   02/13/2018 08:00:00  02/14/2018 20:59:59  \n",
       "5   02/13/2018 08:00:00  02/14/2018 20:59:59  \n",
       "6   02/13/2018 08:00:00  02/14/2018 20:59:59  \n",
       "7   02/13/2018 08:00:00  02/14/2018 20:59:59  \n",
       "8   02/13/2018 08:00:00  02/14/2018 20:59:59  \n",
       "9   02/13/2018 08:00:00  02/14/2018 20:59:59  \n",
       "10  02/13/2018 08:00:00  02/14/2018 20:59:59  \n",
       "11  02/13/2018 08:00:00  02/14/2018 20:59:59  \n",
       "12  02/13/2018 08:00:00  02/14/2018 20:59:59  \n",
       "13  02/13/2018 08:00:00  02/14/2018 20:59:59  \n",
       "14  02/13/2018 08:00:00  02/14/2018 20:59:59  \n",
       "15  02/13/2018 08:00:00  02/14/2018 20:59:59  \n",
       "16  02/13/2018 08:00:00  02/14/2018 20:59:59  \n",
       "17  02/13/2018 08:00:00  02/14/2018 20:59:59  \n",
       "18  02/13/2018 08:00:00  02/14/2018 20:59:59  \n",
       "19  02/13/2018 08:00:00  02/14/2018 20:59:59  \n",
       "20  02/13/2018 08:00:00  02/14/2018 20:59:59  \n",
       "21  02/13/2018 08:00:00  02/14/2018 20:59:59  \n",
       "22  02/13/2018 08:00:00  02/14/2018 20:59:59  \n",
       "23  02/13/2018 08:00:00  02/14/2018 20:59:59  \n",
       "24  02/13/2018 08:00:00  02/14/2018 20:59:59  \n",
       "25  02/13/2018 08:00:00  02/14/2018 20:59:59  \n",
       "26  02/13/2018 08:00:00  02/14/2018 20:59:59  \n",
       "27  02/13/2018 08:00:00  02/14/2018 20:59:59  \n",
       "28  02/13/2018 08:00:00  02/14/2018 20:59:59  \n",
       "29  02/13/2018 08:00:00  02/14/2018 20:59:59  \n",
       "30  02/13/2018 08:00:00  02/14/2018 20:59:59  \n",
       "31  02/13/2018 08:00:00  02/14/2018 20:59:59  \n",
       "32  02/13/2018 08:00:00  02/14/2018 20:59:59  \n",
       "33  02/13/2018 08:00:00  02/14/2018 20:59:59  \n",
       "34  02/13/2018 08:00:00  02/14/2018 20:59:59  \n",
       "35  02/13/2018 08:00:00  02/14/2018 20:59:59  \n",
       "36  02/13/2018 08:00:00  02/14/2018 20:59:59  \n",
       "37  02/13/2018 08:00:00  02/14/2018 20:59:59  \n",
       "38  02/13/2018 08:00:00  02/14/2018 20:59:59  \n",
       "39  02/13/2018 08:00:00  02/14/2018 20:59:59  \n",
       "40  02/13/2018 08:00:00  02/14/2018 20:59:59  \n",
       "41  02/13/2018 08:00:00  02/14/2018 20:59:59  \n",
       "42  02/13/2018 08:00:00  02/14/2018 20:59:59  \n",
       "43  02/13/2018 08:00:00  02/14/2018 20:59:59  "
      ]
     },
     "execution_count": 192,
     "metadata": {},
     "output_type": "execute_result"
    }
   ],
   "source": [
    "df"
   ]
  },
  {
   "cell_type": "code",
   "execution_count": 193,
   "metadata": {
    "collapsed": false
   },
   "outputs": [],
   "source": [
    "df.to_csv('AvgTEMP_21318_21418.csv', index=False)"
   ]
  },
  {
   "cell_type": "code",
   "execution_count": null,
   "metadata": {
    "collapsed": true
   },
   "outputs": [],
   "source": []
  }
 ],
 "metadata": {
  "anaconda-cloud": {},
  "kernelspec": {
   "display_name": "Python [default]",
   "language": "python",
   "name": "python2"
  },
  "language_info": {
   "codemirror_mode": {
    "name": "ipython",
    "version": 2
   },
   "file_extension": ".py",
   "mimetype": "text/x-python",
   "name": "python",
   "nbconvert_exporter": "python",
   "pygments_lexer": "ipython2",
   "version": "2.7.12"
  }
 },
 "nbformat": 4,
 "nbformat_minor": 1
}
